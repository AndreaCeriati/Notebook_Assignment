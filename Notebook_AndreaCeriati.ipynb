{
  "metadata": {
    "language_info": {
      "codemirror_mode": {
        "name": "python",
        "version": 3
      },
      "file_extension": ".py",
      "mimetype": "text/x-python",
      "name": "python",
      "nbconvert_exporter": "python",
      "pygments_lexer": "ipython3",
      "version": "3.8"
    },
    "kernelspec": {
      "name": "python",
      "display_name": "Pyolite",
      "language": "python"
    }
  },
  "nbformat_minor": 4,
  "nbformat": 4,
  "cells": [
    {
      "cell_type": "markdown",
      "source": "# My Jupyter Notebook on IBM Watson Studio",
      "metadata": {}
    },
    {
      "cell_type": "markdown",
      "source": "**Andrea Ceriati**   \nGraduate Student",
      "metadata": {}
    },
    {
      "cell_type": "markdown",
      "source": "*I am interested in data science because, as a mechanical engineering graduate student, it could help me solve everyday challenge and make useful predictions using collected data.*",
      "metadata": {}
    },
    {
      "cell_type": "markdown",
      "source": "### The next line of code will compute a simple operation",
      "metadata": {}
    },
    {
      "cell_type": "code",
      "source": "2**4",
      "metadata": {
        "trusted": true
      },
      "execution_count": 5,
      "outputs": [
        {
          "execution_count": 5,
          "output_type": "execute_result",
          "data": {
            "text/plain": "16"
          },
          "metadata": {}
        }
      ]
    },
    {
      "cell_type": "markdown",
      "source": "- Bulleted list\n---\n~~Strikethrough~~",
      "metadata": {}
    },
    {
      "cell_type": "code",
      "source": "",
      "metadata": {},
      "execution_count": null,
      "outputs": []
    }
  ]
}